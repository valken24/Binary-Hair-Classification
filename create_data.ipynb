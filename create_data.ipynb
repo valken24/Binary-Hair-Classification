{
 "cells": [
  {
   "cell_type": "code",
   "execution_count": null,
   "metadata": {},
   "outputs": [
    {
     "name": "stderr",
     "output_type": "stream",
     "text": [
      "Using TensorFlow backend.\n"
     ]
    }
   ],
   "source": [
    "import os\n",
    "import cv2\n",
    "import numpy as np\n",
    "import matplotlib.pyplot as plt\n",
    "from keras.utils import np_utils\n",
    "from sklearn.utils import shuffle\n",
    "from sklearn.preprocessing import LabelEncoder\n",
    "from sklearn.preprocessing import OneHotEncoder\n",
    "from sklearn.model_selection import train_test_split\n",
    "\n",
    "class image2data:\n",
    "    def __init__(self, image_path, output_path, percent_split, img_h, img_w):\n",
    "        self.image_path = image_path\n",
    "        self.output_path = output_path\n",
    "        self.percent_split = percent_split\n",
    "        self.image_h = img_h\n",
    "        self.image_w = img_w \n",
    "        self.create_data()\n",
    "    def create_data(self):\n",
    "        x = []\n",
    "        y = []\n",
    "        for root, folder, files in os.walk(self.image_path):\n",
    "            for f in files:\n",
    "                if f.endswith(\".jpg\"):\n",
    "                    file_path = os.path.join(root, f)\n",
    "                    image = cv2.imread(file_path, 1)\n",
    "                    image = cv2.cvtColor(image, cv2.COLOR_BGR2RGB)\n",
    "                    image = cv2.resize(image, (self.image_h, self.image_w))\n",
    "                    x.append(image)\n",
    "                    folder = file_path.split('\\\\')[0]\n",
    "                    folder = folder.split(\"/\")[1]\n",
    "                    y.append(folder)   \n",
    "        x = np.array(x)\n",
    "        y = np.array(y)\n",
    "        y = self.one_hot_encode(y)\n",
    "        x, y = self.shuffle_data(x, y)\n",
    "        self.split_data(x, y)\n",
    "    def one_hot_encode(self, y):\n",
    "        le = LabelEncoder()\n",
    "        le.fit(y)\n",
    "        le.classes_\n",
    "        y_enconded = le.transform(y)\n",
    "        y_enconded = np_utils.to_categorical(y_enconded, 2)\n",
    "        return y_enconded\n",
    "    def shuffle_data(self, x_data, y_data):\n",
    "        x, y = shuffle(x_data, y_data, random_state=0)\n",
    "        return x, y\n",
    "    def split_data(self, x, y):\n",
    "        x_train, x_test, y_train, y_test = train_test_split(x, y, test_size= self.percent_split, random_state=0)\n",
    "        np.save(os.path.join(self.output_path, \"x_train.npy\"), x_train)\n",
    "        np.save(os.path.join(self.output_path, \"y_train.npy\"), y_train)\n",
    "        np.save(os.path.join(self.output_path, \"x_test.npy\"), x_test)\n",
    "        np.save(os.path.join(self.output_path, \"y_test.npy\"), y_test)\n",
    "        print(\"Data Created.\")"
   ]
  },
  {
   "cell_type": "code",
   "execution_count": null,
   "metadata": {},
   "outputs": [],
   "source": [
    "if __name__ == \"__main__\":\n",
    "    OUTPUT = 'data/'\n",
    "    IMAGES = 'images/'\n",
    "    H,W,C = 32, 32, 3\n",
    "    SPLIT_PERCENT = 0.15\n",
    "    image2data(IMAGES, OUTPUT, SPLIT_PERCENT, H, W)"
   ]
  }
 ],
 "metadata": {
  "file_extension": ".py",
  "kernelspec": {
   "display_name": "Python 3",
   "language": "python",
   "name": "python3"
  },
  "language_info": {
   "codemirror_mode": {
    "name": "ipython",
    "version": 3
   },
   "file_extension": ".py",
   "mimetype": "text/x-python",
   "name": "python",
   "nbconvert_exporter": "python",
   "pygments_lexer": "ipython3",
   "version": "3.7.3"
  },
  "mimetype": "text/x-python",
  "name": "python",
  "npconvert_exporter": "python",
  "pygments_lexer": "ipython3",
  "version": 3
 },
 "nbformat": 4,
 "nbformat_minor": 2
}
